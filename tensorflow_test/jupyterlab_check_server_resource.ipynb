{
 "cells": [
  {
   "cell_type": "markdown",
   "id": "a7593332-1850-4c6c-b40d-3cecd7f01fa5",
   "metadata": {},
   "source": [
    "# JupyterLab工具，用於檢查Server資源使用量(CPU、RAM、GPU)"
   ]
  },
  {
   "cell_type": "code",
   "execution_count": 1,
   "id": "f2bb16aa-a502-4e8d-b155-a6fc8d34bd76",
   "metadata": {},
   "outputs": [],
   "source": [
    "# 使用 nvidia-smi 指令檢視顯卡工作狀況\n",
    "import subprocess\n",
    "\n",
    "def check_gpu_status():\n",
    "    # 執行命令 'nvidia-smi'\n",
    "    result = subprocess.run([\"nvidia-smi\"], stdout=subprocess.PIPE, stderr=subprocess.PIPE, text=True)\n",
    "    # 輸出結果\n",
    "    return result.stdout\n",
    "\n",
    "# gpu_result = check_gpu_status()\n",
    "# print(gpu_result)"
   ]
  },
  {
   "cell_type": "code",
   "execution_count": 2,
   "id": "668e1deb-29a1-484a-9b61-d63ddb2f6c0d",
   "metadata": {},
   "outputs": [],
   "source": [
    "# GPU使用情形\n",
    "\n",
    "import tensorflow as tf\n",
    "\n",
    "def check_gpu_usage():\n",
    "    gpus = tf.config.list_physical_devices('GPU')\n",
    "    for i, gpu in enumerate(gpus):\n",
    "        print(\"Name:\", gpu.name, \"  Type:\", gpu.device_type)\n",
    "        details = tf.config.experimental.get_memory_info(f'GPU:{i}')\n",
    "        print(\"Memory details:\", details)\n",
    "\n",
    "# check_gpu_usage()"
   ]
  },
  {
   "cell_type": "code",
   "execution_count": 3,
   "id": "b49d45c0-0a5c-46dc-8f33-f7ae81abcd6e",
   "metadata": {},
   "outputs": [],
   "source": [
    "import psutil\n",
    "\n",
    "def check_system_usage():\n",
    "    # CPU 使用情況\n",
    "    print(f\"CPU usage: {psutil.cpu_percent()}%\")\n",
    "    \n",
    "    # 已使用 RAM ; 占用比率\n",
    "    print(f\"Active RAM: {psutil.virtual_memory().active / (1024.0 ** 3):.2f} GB; percent: {psutil.virtual_memory().percent}%\")\n",
    "    \n",
    "    # 可使用 RAM\n",
    "    print(f\"Available RAM: {psutil.virtual_memory().available / (1024.0 ** 3):.2f} GB\")\n",
    "\n",
    "    # 總 RAM\n",
    "    print(f\"Total RAM: {psutil.virtual_memory().total / (1024.0 ** 3):.2f} GB\")\n",
    "\n",
    "def return_system_usage():\n",
    "    # 使用變量而非列印來儲存訊息\n",
    "    cpu_usage = f\"CPU usage: {psutil.cpu_percent()}%\"\n",
    "    active_ram = f\"Active RAM: {psutil.virtual_memory().active / (1024.0 ** 3):.2f} GB; percent: {psutil.virtual_memory().percent}%\"\n",
    "    available_ram = f\"Available RAM: {psutil.virtual_memory().available / (1024.0 ** 3):.2f} GB\"\n",
    "    total_ram = f\"Total RAM: {psutil.virtual_memory().total / (1024.0 ** 3):.2f} GB\"\n",
    "    \n",
    "    # 將所有訊息組合成一個字串並返回\n",
    "    return f\"{cpu_usage}\\n{active_ram}\\n{available_ram}\\n{total_ram}\"\n",
    "\n",
    "\n",
    "def check_disk_usage():\n",
    "    print(f\"Disk Usage: {psutil.disk_usage('/').percent}%\")\n",
    "    \n",
    "def check_network_usage():\n",
    "    io_stats = psutil.net_io_counters()\n",
    "    print(f\"Bytes Sent: {io_stats.bytes_sent / (1024 ** 2):.2f} MB\")\n",
    "    print(f\"Bytes Received: {io_stats.bytes_recv / (1024 ** 2):.2f} MB\")\n",
    "\n",
    "\n",
    "# check_system_usage\n",
    "# check_disk_usage()\n",
    "# check_network_usage()"
   ]
  },
  {
   "cell_type": "code",
   "execution_count": null,
   "id": "337e27b4-dbbd-4be6-8c49-b210fc2aaa88",
   "metadata": {},
   "outputs": [
    {
     "name": "stdout",
     "output_type": "stream",
     "text": [
      "CPU usage: 1.1%\n",
      "Active RAM: 12.68 GB; percent: 10.4%\n",
      "Available RAM: 98.73 GB\n",
      "Total RAM: 110.13 GB\n",
      "\n",
      "Thu Aug 22 11:32:58 2024       \n",
      "+---------------------------------------------------------------------------------------+\n",
      "| NVIDIA-SMI 535.183.01             Driver Version: 535.183.01   CUDA Version: 12.2     |\n",
      "|-----------------------------------------+----------------------+----------------------+\n",
      "| GPU  Name                 Persistence-M | Bus-Id        Disp.A | Volatile Uncorr. ECC |\n",
      "| Fan  Temp   Perf          Pwr:Usage/Cap |         Memory-Usage | GPU-Util  Compute M. |\n",
      "|                                         |                      |               MIG M. |\n",
      "|=========================================+======================+======================|\n",
      "|   0  NVIDIA A30                     On  | 00005672:00:00.0 Off |                   On |\n",
      "| N/A   29C    P0              48W / 165W |                  N/A |     N/A      Default |\n",
      "|                                         |                      |              Enabled |\n",
      "+-----------------------------------------+----------------------+----------------------+\n",
      "\n",
      "+---------------------------------------------------------------------------------------+\n",
      "| MIG devices:                                                                          |\n",
      "+------------------+--------------------------------+-----------+-----------------------+\n",
      "| GPU  GI  CI  MIG |                   Memory-Usage |        Vol|      Shared           |\n",
      "|      ID  ID  Dev |                     BAR1-Usage | SM     Unc| CE ENC DEC OFA JPG    |\n",
      "|                  |                                |        ECC|                       |\n",
      "|==================+================================+===========+=======================|\n",
      "|  0    6   0   0  |             203MiB /  5952MiB  | 14      0 |  1   0    1    0    0 |\n",
      "|                  |               2MiB /  8191MiB  |           |                       |\n",
      "+------------------+--------------------------------+-----------+-----------------------+\n",
      "                                                                                         \n",
      "+---------------------------------------------------------------------------------------+\n",
      "| Processes:                                                                            |\n",
      "|  GPU   GI   CI        PID   Type   Process name                            GPU Memory |\n",
      "|        ID   ID                                                             Usage      |\n",
      "|=======================================================================================|\n",
      "+---------------------------------------------------------------------------------------+\n",
      "\n"
     ]
    }
   ],
   "source": [
    "from IPython.display import clear_output\n",
    "import subprocess\n",
    "import time\n",
    "\n",
    "def monitor_resources(interval=1):\n",
    "    # 預先獲取一次數據\n",
    "    system_usage = return_system_usage()\n",
    "    gpu_status = check_gpu_status()\n",
    "    \n",
    "    try:\n",
    "        while True:\n",
    "            clear_output(wait=True)  # 清除上一次的輸出\n",
    "            \n",
    "            # 顯示數據\n",
    "            print(f\"{system_usage}\\n\")\n",
    "            print(gpu_status)\n",
    "\n",
    "            time.sleep(interval)\n",
    "            \n",
    "            # 獲取下一次的數據\n",
    "            system_usage = return_system_usage()\n",
    "            gpu_status = check_gpu_status()\n",
    "            \n",
    "    except KeyboardInterrupt:\n",
    "        print(\"Monitoring stopped.\")\n",
    "\n",
    "interval = 1\n",
    "monitor_resources(interval)"
   ]
  },
  {
   "cell_type": "code",
   "execution_count": null,
   "id": "effab0c2-fc36-4d09-b854-d8b2f4b22542",
   "metadata": {},
   "outputs": [],
   "source": []
  },
  {
   "cell_type": "code",
   "execution_count": null,
   "id": "54bf8635-4fe1-4f6c-bed1-9c463482137c",
   "metadata": {},
   "outputs": [],
   "source": []
  }
 ],
 "metadata": {
  "kernelspec": {
   "display_name": "Python 3 (ipykernel)",
   "language": "python",
   "name": "python3"
  },
  "language_info": {
   "codemirror_mode": {
    "name": "ipython",
    "version": 3
   },
   "file_extension": ".py",
   "mimetype": "text/x-python",
   "name": "python",
   "nbconvert_exporter": "python",
   "pygments_lexer": "ipython3",
   "version": "3.9.5"
  }
 },
 "nbformat": 4,
 "nbformat_minor": 5
}
